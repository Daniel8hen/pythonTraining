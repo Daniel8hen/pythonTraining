{
 "cells": [
  {
   "cell_type": "code",
   "execution_count": 5,
   "metadata": {},
   "outputs": [],
   "source": [
    "import requests\n",
    "from bs4 import BeautifulSoup\n",
    "\n",
    "# requests.get (URL) + requests.content - keep HTML of page.\n",
    "r = requests.get(\"https://www.pythonhow.com/real-estate/rock-springs-wy/LCWYROCKSPRINGS/\")\n",
    "c = r.content\n",
    "\n",
    "# beautify HTML\n",
    "soup = BeautifulSoup(c, \"html.parser\")\n",
    "\n",
    "# logic - grab HTML, go through HTML's and find relevant tags for data we want to get.\n",
    "# we should find the elements which identifies \n",
    "all = soup.find_all(\"div\",{\"class\":\"propertyRow\"})\n",
    "# each element of the \"all\" have same methods of soup.find_all ...\n",
    "all[0].find(\"h4\",{\"class\":\"propPrice\"}).text.replace(\"\\n\",\"\")"
   ]
  },
  {
   "cell_type": "code",
   "execution_count": 65,
   "metadata": {},
   "outputs": [
    {
     "name": "stdout",
     "output_type": "stream",
     "text": [
      " \n",
      " \n",
      " \n",
      " \n",
      " \n",
      " \n",
      " \n",
      " \n",
      " \n",
      " \n"
     ]
    }
   ],
   "source": [
    "#now we'd like to extract the data by iterating\n",
    "l = []\n",
    "for item in all:\n",
    "    d = {}\n",
    "    d[\"Address\"] = item.find_all(\"span\", {\"class\":\"propAddressCollapse\"})[0].text\n",
    "    d[\"Locality\"] = item.find_all(\"span\", {\"class\":\"propAddressCollapse\"})[1].text\n",
    "    d[\"Price\"] = item.find(\"h4\",{\"class\":\"propPrice\"}).text.replace(\"\\n\",\"\")\n",
    "    try:\n",
    "        d[\"Beds\"] = item.find(\"span\", {\"class\":\"infoBed\"}).find(\"b\").text\n",
    "    except:\n",
    "        d[\"Beds\"] = None\n",
    "    \n",
    "    try:\n",
    "        d[\"Area\"] = item.find(\"span\", {\"class\":\"infoSqFt\"}).find(\"b\").text\n",
    "    except:\n",
    "        d[\"Area\"] = None\n",
    "    \n",
    "    try:\n",
    "        d[\"Full Baths\"] = item.find(\"span\", {\"class\":\"infoValueFullBath\"}).find(\"b\").text\n",
    "    except:\n",
    "        d[\"Full Baths\"] = None\n",
    "    \n",
    "    try:\n",
    "        d[\"Half Baths\"] = item.find(\"span\", {\"class\":\"infoValueHalfBath\"}).find(\"b\").text\n",
    "    except:\n",
    "        d[\"Full baths\"] = None\n",
    "    \n",
    "    for column_group in item.find_all(\"div\", {\"class\":\"columnGroup\"}):\n",
    "        for feature_group, feature_name in zip(column_group.find_all(\"span\", {\"class\":\"featureGroup\"}),\n",
    "                                              column_group.find_all(\"span\", {\"class\":\"featureName\"})):\n",
    "            if \"Lot Size\" in feature_group.text:\n",
    "                d[\"Lot Size\"] = feature_name.text\n",
    "    l.append(d)"
   ]
  },
  {
   "cell_type": "code",
   "execution_count": null,
   "metadata": {},
   "outputs": [],
   "source": []
  }
 ],
 "metadata": {
  "kernelspec": {
   "display_name": "Python 2",
   "language": "python",
   "name": "python2"
  },
  "language_info": {
   "codemirror_mode": {
    "name": "ipython",
    "version": 2
   },
   "file_extension": ".py",
   "mimetype": "text/x-python",
   "name": "python",
   "nbconvert_exporter": "python",
   "pygments_lexer": "ipython2",
   "version": "2.7.12"
  }
 },
 "nbformat": 4,
 "nbformat_minor": 2
}
