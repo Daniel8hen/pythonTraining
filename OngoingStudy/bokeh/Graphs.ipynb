{
 "cells": [
  {
   "cell_type": "code",
   "execution_count": 8,
   "metadata": {},
   "outputs": [],
   "source": [
    "#making a basic line Bokeh graph\n",
    "\n",
    "#importing Bokeh\n",
    "from bokeh.plotting import figure\n",
    "from bokeh.io import output_file, show\n",
    "\n",
    "#prepare some data - we need to have 2 lists with same size (5 in this case)\n",
    "x = [3,7.5,10]\n",
    "y = [3,6,9]\n",
    "\n",
    "#prepare the output file\n",
    "output_file(\"Line.html\")\n",
    "\n",
    "#create a figure object\n",
    "f = figure()\n",
    "\n",
    "#create line plot\n",
    "f.circle(x,y)\n",
    "\n",
    "show(f)"
   ]
  },
  {
   "cell_type": "code",
   "execution_count": 61,
   "metadata": {},
   "outputs": [],
   "source": [
    "#making a basic line Bokeh graph\n",
    "\n",
    "#importing Bokeh and pandas\n",
    "from bokeh.plotting import figure\n",
    "from bokeh.io import output_file, show\n",
    "import pandas\n",
    "#prepare some data - we need to have 2 lists with same size (5 in this case)\n",
    "# help(xlrd)\n",
    "excelFile = pandas.read_excel(\"verlegenhuken.xlsx\", sheet_names=0)\n",
    "# get relevant X,Y axis's\n",
    "TempX = relevantSheet[\"Temperature\"]/10\n",
    "TempY = relevantSheet[\"Pressure\"]/10\n",
    "# change relevant atttrs for the figure\n",
    "p=figure(plot_width=500,plot_height=400,tools='pan',logo=None)\n",
    "\n",
    "p.title.text=\"Temperature and Air Pressure\"\n",
    "p.title.text_color=\"Gray\"\n",
    "p.title.text_font=\"arial\"\n",
    "p.title.text_font_style=\"bold\"\n",
    "p.xaxis.minor_tick_line_color=None\n",
    "p.yaxis.minor_tick_line_color=None\n",
    "p.xaxis.axis_label=\"Temperature (°C)\"\n",
    "p.yaxis.axis_label=\"Pressure (hPa)\"    \n",
    "# circle for p \n",
    "p.circle(TempX,TempY,size=0.5)\n",
    "# output in HTML\n",
    "output_file(\"Weather.html\")\n",
    "show(p)"
   ]
  },
  {
   "cell_type": "code",
   "execution_count": 70,
   "metadata": {},
   "outputs": [],
   "source": [
    "from bokeh.plotting import figure, output_file, show\n",
    "import pandas\n",
    "\n",
    "df = pandas.read_csv(\"adbe.csv\", parse_dates=[\"Date\"])\n",
    "p = figure(width=500, height=250,x_axis_type=\"datetime\", sizing_mode='scale_width')\n",
    "p.line(df[\"Date\"], df[\"Close\"], color=\"Orange\", alpha = 0.5)\n",
    "output_file(\"time-series.html\")\n",
    "show(p)"
   ]
  },
  {
   "cell_type": "code",
   "execution_count": null,
   "metadata": {},
   "outputs": [],
   "source": []
  }
 ],
 "metadata": {
  "kernelspec": {
   "display_name": "Python 2",
   "language": "python",
   "name": "python2"
  },
  "language_info": {
   "codemirror_mode": {
    "name": "ipython",
    "version": 2
   },
   "file_extension": ".py",
   "mimetype": "text/x-python",
   "name": "python",
   "nbconvert_exporter": "python",
   "pygments_lexer": "ipython2",
   "version": "2.7.12"
  }
 },
 "nbformat": 4,
 "nbformat_minor": 2
}
